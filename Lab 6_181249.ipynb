{
  "nbformat": 4,
  "nbformat_minor": 0,
  "metadata": {
    "colab": {
      "name": "181249_Lab 6_Neural Network.ipynb",
      "provenance": []
    },
    "kernelspec": {
      "name": "python3",
      "display_name": "Python 3"
    },
    "language_info": {
      "name": "python"
    }
  },
  "cells": [
    {
      "cell_type": "code",
      "metadata": {
        "id": "8Kuins-ONJjZ"
      },
      "source": [
        "import numpy as np"
      ],
      "execution_count": 1,
      "outputs": []
    },
    {
      "cell_type": "code",
      "metadata": {
        "id": "8v--XLlkNQdS"
      },
      "source": [
        "class NeuralNetwork():\n",
        "    def __init__(self):\n",
        "# seeding for random number generation\n",
        "        np.random.seed(1)\n",
        "#converting weights to a 3 by 1 matrix with values from -1 to 1 and mean of 0\n",
        "        self.synaptic_weights = 2 * np.random.random((3, 1)) - 1\n",
        "def sigmoid(self, x):\n",
        "#applying the sigmoid function\n",
        "    return 1 / (1 + np.exp(-x))\n",
        "def sigmoid_derivative(self, x):\n",
        "#computing derivative to the Sigmoid function\n",
        "    return x * (1 - x)"
      ],
      "execution_count": 3,
      "outputs": []
    },
    {
      "cell_type": "code",
      "metadata": {
        "id": "2aPuGbPzNaqi"
      },
      "source": [
        "def train(self, training_inputs, training_outputs, training_iterations):\n",
        "#training the model to make accurate predictions while adjusting weights continually\n",
        "    for iteration in range(training_iterations):\n",
        "#siphon the training data via the neuron\n",
        "        output = self.think(training_inputs)\n",
        "#computing error rate for back-propagation\n",
        "        error = training_outputs - output\n",
        "#performing weight adjustments\n",
        "        adjustments = np.dot(training_inputs.T, error * self.sigmoid_derivative(output))\n",
        "        self.synaptic_weights += adjustments "
      ],
      "execution_count": 4,
      "outputs": []
    },
    {
      "cell_type": "code",
      "metadata": {
        "id": "1Hn38gh0NjZF"
      },
      "source": [
        "def think(self, inputs):\n",
        "#passing the inputs via the neuron to get output\n",
        "#converting values to floats\n",
        "    inputs = inputs.astype(float)\n",
        "    output = self.sigmoid(np.dot(inputs, self.synaptic_weights))\n",
        "    return output"
      ],
      "execution_count": 6,
      "outputs": []
    },
    {
      "cell_type": "code",
      "metadata": {
        "id": "8te05fvyNsQI"
      },
      "source": [
        "if __name__ == \"__main__\":\n",
        "#initializing the neuron class\n",
        "    neural_network = NeuralNetwork()\n",
        "    print(\"Beginning Randomly Generated Weights: \")\n",
        "    print(neural_network.synaptic_weights)\n",
        "    #training data consisting of 4 examples--3 input values and 1 output\n",
        "    training_inputs = np.array([[0,0,1],\n",
        "    [1,1,1],\n",
        "    [1,0,1],\n",
        "    [0,1,1]])\n",
        "    training_outputs = np.array([[0,1,1,0]]).T\n",
        "    #training taking place\n",
        "    print(\"Ending Weights After Training: \")\n",
        "    print(neural_network.synaptic_weights)\n",
        "    user_input_one = str(input(\"User Input One: \"))\n",
        "    user_input_two = str(input(\"User Input Two: \"))\n",
        "    user_input_three = str(input(\"User Input Three: \"))\n",
        "    print(\"Considering New Situation: \", user_input_one, user_input_two, user_input_three)\n",
        "    print(\"New Output data: \")\n"
      ],
      "execution_count": null,
      "outputs": []
    },
    {
      "cell_type": "markdown",
      "metadata": {
        "id": "CzmluUcmOs4E"
      },
      "source": [
        "###### <br>\n",
        "[[-0.16595599] <br>\n",
        " [ 0.44064899] <br>\n",
        " [-0.99977125]] <br>\n",
        "Ending Weights After Training:  <br>\n",
        "[[10.08740896]<br>\n",
        " [-0.20695366]<br>\n",
        " [-4.83757835]]<br>\n",
        "User Input One: 1<br>\n",
        "User Input Two: 0<br>\n",
        "User Input Three: 0<br>\n",
        "Considering New Situation: 1 0 0<br>\n",
        "New Output data:<br>\n",
        "[0.9999584]\n",
        "\n"
      ]
    },
    {
      "cell_type": "code",
      "metadata": {
        "id": "__oX-jTbOJT2"
      },
      "source": [
        ""
      ],
      "execution_count": 10,
      "outputs": []
    }
  ]
}