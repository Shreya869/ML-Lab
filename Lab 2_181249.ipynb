{
  "nbformat": 4,
  "nbformat_minor": 0,
  "metadata": {
    "colab": {
      "name": "ML Lab 2-181231 ",
      "provenance": []
    },
    "kernelspec": {
      "name": "python3",
      "display_name": "Python 3"
    },
    "language_info": {
      "name": "python"
    }
  },
  "cells": [
    {
      "cell_type": "code",
      "metadata": {
        "colab": {
          "base_uri": "https://localhost:8080/",
          "height": 0
        },
        "id": "3EAiKsW01rsg",
        "outputId": "64540184-468d-4657-b4bb-e90eb68989a4"
      },
      "source": [
        "from __future__ import division\n",
        "from math import log\n",
        "\n",
        "\n",
        "def entropy(pi):\n",
        "    '''\n",
        "    return the Entropy of a probability distribution:\n",
        "    entropy(p) = − SUM (Pi * log(Pi) )\n",
        "    defintion:\n",
        "            entropy is a metric to measure the uncertainty of a probability distribution.\n",
        "    entropy ranges between 0 to 1\n",
        "    Low entropy means the distribution varies (peaks and valleys).\n",
        "    High entropy means the distribution is uniform.\n",
        "    '''\n",
        "\n",
        "    total = 0\n",
        "    for p in pi:\n",
        "        p = p / sum(pi)\n",
        "        if p != 0:\n",
        "            total += p * log(p, 2)\n",
        "        else:\n",
        "            total += 0\n",
        "    total *= -1\n",
        "    return total\n",
        "\n",
        "\n",
        "def gain(d, a):\n",
        "    '''\n",
        "    return the information gain:\n",
        "    gain(D, A) = entropy(D)−􏰋 SUM ( |Di| / |D| * entropy(Di) )\n",
        "    '''\n",
        "\n",
        "    total = 0\n",
        "    for v in a:\n",
        "        total += sum(v) / sum(d) * entropy(v)\n",
        "\n",
        "    gain = entropy(d) - total\n",
        "    return gain\n",
        "\n",
        "\n",
        "# TEST\n",
        "\n",
        "###__ example 1 (AIMA book, fig18.3)\n",
        "\n",
        "# set of example of the dataset\n",
        "willWait = [6, 6] # Yes, No\n",
        "\n",
        "# attribute, number of members (feature)\n",
        "patron = [ [4,0], [2,4], [0,2] ] # Some, Full, None\n",
        "\n",
        "print(gain(willWait, patron))\n",
        "\n",
        "\n",
        "###__ example 2 (playTennis homework)\n",
        "\n",
        "# set of example of the dataset\n",
        "playTennis = [9, 5] # Yes, No\n",
        "\n",
        "# attribute, number of members (feature)\n",
        "outlook = [\n",
        "    [4, 0],  # overcase\n",
        "    [2, 3],  # sunny\n",
        "    [3, 2]   # rain\n",
        "]\n",
        "temperature = [\n",
        "    [2, 2],  # hot\n",
        "    [3, 1],  # cool\n",
        "    [4, 2]   # mild\n",
        "]\n",
        "humidity = [\n",
        "    [3, 4],  # high\n",
        "    [6, 1]   # normal\n",
        "]\n",
        "wind = [\n",
        "    [6, 2],  # weak\n",
        "    [3, 3]   # strong\n",
        "]\n",
        "\n",
        "print(gain(playTennis, outlook))\n",
        "print(gain(playTennis, temperature))\n",
        "print(gain(playTennis, humidity))\n",
        "print(gain(playTennis, wind))"
      ],
      "execution_count": 2,
      "outputs": [
        {
          "output_type": "stream",
          "text": [
            "0.5408520829727552\n",
            "0.2467498197744391\n",
            "0.029222565658954647\n",
            "0.15183550136234136\n",
            "0.04812703040826927\n"
          ],
          "name": "stdout"
        }
      ]
    }
  ]
}